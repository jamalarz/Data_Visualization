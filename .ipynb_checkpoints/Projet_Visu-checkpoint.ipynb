{
 "cells": [
  {
   "cell_type": "markdown",
   "metadata": {},
   "source": [
    "# MLDS - Projet Exploration Visuelle des Données"
   ]
  },
  {
   "cell_type": "markdown",
   "metadata": {},
   "source": [
    "---\n",
    "<b>Authors :</b> \n",
    "<li>FHIYIL SOUFIANE</li>\n",
    "<li>MOUHDA MOHAMMED REDA</li>\n",
    "<li>JAMAL AOURRAZ</li>"
   ]
  },
  {
   "cell_type": "markdown",
   "metadata": {},
   "source": [
    "## Préparation des Données "
   ]
  },
  {
   "cell_type": "code",
   "execution_count": 1,
   "metadata": {},
   "outputs": [],
   "source": [
    "library(data.table)"
   ]
  },
  {
   "cell_type": "code",
   "execution_count": 2,
   "metadata": {},
   "outputs": [],
   "source": [
    "gordon<-read.csv2('https://raw.githubusercontent.com/jamalarz/Projet_Visualisation/master/gordon-2002_database.txt'\n",
    "                  ,sep=\"\\t\",header = TRUE,row.names = 1)\n",
    "pomeroy<-read.csv2('https://raw.githubusercontent.com/jamalarz/Projet_Visualisation/master/pomeroy-2002-v2_database.txt'\n",
    "                  ,sep=\"\\t\",header = TRUE,row.names = 1)"
   ]
  },
  {
   "cell_type": "code",
   "execution_count": 3,
   "metadata": {},
   "outputs": [
    {
     "data": {
      "text/html": [
       "<table>\n",
       "<thead><tr><th></th><th scope=col>meso42</th><th scope=col>meso51</th><th scope=col>meso2</th><th scope=col>meso82</th><th scope=col>meso212</th><th scope=col>meso74</th><th scope=col>meso67</th><th scope=col>meso57</th><th scope=col>meso167</th><th scope=col>meso33</th><th scope=col>⋯</th><th scope=col>CL2001032149AA</th><th scope=col>CL2001032301AA</th><th scope=col>CL2001032307AA</th><th scope=col>CL2001032040AA</th><th scope=col>CL2001032842AA</th><th scope=col>CL2001032259AA</th><th scope=col>CL2001031611AA</th><th scope=col>CL2001032155AA</th><th scope=col>CL2001032039AA</th><th scope=col>CL2001031612AA</th></tr></thead>\n",
       "<tbody>\n",
       "\t<tr><th scope=row></th><td>MPM   </td><td>MPM   </td><td>MPM   </td><td>MPM   </td><td>MPM   </td><td>MPM   </td><td>MPM   </td><td>MPM   </td><td>MPM   </td><td>MPM   </td><td>⋯     </td><td>AD    </td><td>AD    </td><td>AD    </td><td>AD    </td><td>AD    </td><td>AD    </td><td>AD    </td><td>AD    </td><td>AD    </td><td>AD    </td></tr>\n",
       "\t<tr><th scope=row>1006_at</th><td>10    </td><td>71    </td><td>11.3  </td><td>24.6  </td><td>22.8  </td><td>10    </td><td>19.3  </td><td>20.7  </td><td>17.7  </td><td>10    </td><td>⋯     </td><td>21.8  </td><td>73.7  </td><td>42.7  </td><td>32.5  </td><td>53.7  </td><td>24.3  </td><td>37.2  </td><td>17.5  </td><td>47.8  </td><td>47.1  </td></tr>\n",
       "\t<tr><th scope=row>1014_at</th><td>82    </td><td>133.9 </td><td>60.7  </td><td>85.1  </td><td>49.9  </td><td>108.2 </td><td>74.2  </td><td>38.4  </td><td>75.1  </td><td>69.8  </td><td>⋯     </td><td>36.3  </td><td>10    </td><td>51.7  </td><td>34.9  </td><td>21.9  </td><td>46.3  </td><td>10    </td><td>54.2  </td><td>10    </td><td>61.2  </td></tr>\n",
       "\t<tr><th scope=row>1042_at</th><td>1481.1</td><td>82.6  </td><td>796.8 </td><td>13.5  </td><td>561.8 </td><td>1209.3</td><td>1102.5</td><td>1895.5</td><td>1095.8</td><td>3114.3</td><td>⋯     </td><td>52.8  </td><td>122.3 </td><td>35    </td><td>294.6 </td><td>14.3  </td><td>25.1  </td><td>155.4 </td><td>68.7  </td><td>10    </td><td>45.7  </td></tr>\n",
       "\t<tr><th scope=row>1047_s_at</th><td>220.3 </td><td>74.5  </td><td>298.3 </td><td>26.6  </td><td>85.9  </td><td>40.3  </td><td>196.8 </td><td>228   </td><td>112.7 </td><td>260.4 </td><td>⋯     </td><td>171.8 </td><td>10    </td><td>88.1  </td><td>43    </td><td>10    </td><td>141   </td><td>87.5  </td><td>28    </td><td>29.8  </td><td>42.8  </td></tr>\n",
       "</tbody>\n",
       "</table>\n"
      ],
      "text/latex": [
       "\\begin{tabular}{r|lllllllllllllllllllllllllllllllllllllllllllllllllllllllllllllllllllllllllllllllllllllllllllllllllllllllllllllllllllllllllllllllllllllllllllllllllllllllllllllllllllllllllllllllllllll}\n",
       "  & meso42 & meso51 & meso2 & meso82 & meso212 & meso74 & meso67 & meso57 & meso167 & meso33 & ⋯ & CL2001032149AA & CL2001032301AA & CL2001032307AA & CL2001032040AA & CL2001032842AA & CL2001032259AA & CL2001031611AA & CL2001032155AA & CL2001032039AA & CL2001031612AA\\\\\n",
       "\\hline\n",
       "\t & MPM    & MPM    & MPM    & MPM    & MPM    & MPM    & MPM    & MPM    & MPM    & MPM    & ⋯      & AD     & AD     & AD     & AD     & AD     & AD     & AD     & AD     & AD     & AD    \\\\\n",
       "\t1006\\_at & 10     & 71     & 11.3   & 24.6   & 22.8   & 10     & 19.3   & 20.7   & 17.7   & 10     & ⋯      & 21.8   & 73.7   & 42.7   & 32.5   & 53.7   & 24.3   & 37.2   & 17.5   & 47.8   & 47.1  \\\\\n",
       "\t1014\\_at & 82     & 133.9  & 60.7   & 85.1   & 49.9   & 108.2  & 74.2   & 38.4   & 75.1   & 69.8   & ⋯      & 36.3   & 10     & 51.7   & 34.9   & 21.9   & 46.3   & 10     & 54.2   & 10     & 61.2  \\\\\n",
       "\t1042\\_at & 1481.1 & 82.6   & 796.8  & 13.5   & 561.8  & 1209.3 & 1102.5 & 1895.5 & 1095.8 & 3114.3 & ⋯      & 52.8   & 122.3  & 35     & 294.6  & 14.3   & 25.1   & 155.4  & 68.7   & 10     & 45.7  \\\\\n",
       "\t1047\\_s\\_at & 220.3  & 74.5   & 298.3  & 26.6   & 85.9   & 40.3   & 196.8  & 228    & 112.7  & 260.4  & ⋯      & 171.8  & 10     & 88.1   & 43     & 10     & 141    & 87.5   & 28     & 29.8   & 42.8  \\\\\n",
       "\\end{tabular}\n"
      ],
      "text/markdown": [
       "\n",
       "| <!--/--> | meso42 | meso51 | meso2 | meso82 | meso212 | meso74 | meso67 | meso57 | meso167 | meso33 | ⋯ | CL2001032149AA | CL2001032301AA | CL2001032307AA | CL2001032040AA | CL2001032842AA | CL2001032259AA | CL2001031611AA | CL2001032155AA | CL2001032039AA | CL2001031612AA | \n",
       "|---|---|---|---|---|\n",
       "|  | MPM    | MPM    | MPM    | MPM    | MPM    | MPM    | MPM    | MPM    | MPM    | MPM    | ⋯      | AD     | AD     | AD     | AD     | AD     | AD     | AD     | AD     | AD     | AD     | \n",
       "| 1006_at | 10     | 71     | 11.3   | 24.6   | 22.8   | 10     | 19.3   | 20.7   | 17.7   | 10     | ⋯      | 21.8   | 73.7   | 42.7   | 32.5   | 53.7   | 24.3   | 37.2   | 17.5   | 47.8   | 47.1   | \n",
       "| 1014_at | 82     | 133.9  | 60.7   | 85.1   | 49.9   | 108.2  | 74.2   | 38.4   | 75.1   | 69.8   | ⋯      | 36.3   | 10     | 51.7   | 34.9   | 21.9   | 46.3   | 10     | 54.2   | 10     | 61.2   | \n",
       "| 1042_at | 1481.1 | 82.6   | 796.8  | 13.5   | 561.8  | 1209.3 | 1102.5 | 1895.5 | 1095.8 | 3114.3 | ⋯      | 52.8   | 122.3  | 35     | 294.6  | 14.3   | 25.1   | 155.4  | 68.7   | 10     | 45.7   | \n",
       "| 1047_s_at | 220.3  | 74.5   | 298.3  | 26.6   | 85.9   | 40.3   | 196.8  | 228    | 112.7  | 260.4  | ⋯      | 171.8  | 10     | 88.1   | 43     | 10     | 141    | 87.5   | 28     | 29.8   | 42.8   | \n",
       "\n",
       "\n"
      ],
      "text/plain": [
       "          meso42 meso51 meso2 meso82 meso212 meso74 meso67 meso57 meso167\n",
       "          MPM    MPM    MPM   MPM    MPM     MPM    MPM    MPM    MPM    \n",
       "1006_at   10     71     11.3  24.6   22.8    10     19.3   20.7   17.7   \n",
       "1014_at   82     133.9  60.7  85.1   49.9    108.2  74.2   38.4   75.1   \n",
       "1042_at   1481.1 82.6   796.8 13.5   561.8   1209.3 1102.5 1895.5 1095.8 \n",
       "1047_s_at 220.3  74.5   298.3 26.6   85.9    40.3   196.8  228    112.7  \n",
       "          meso33 ⋯ CL2001032149AA CL2001032301AA CL2001032307AA CL2001032040AA\n",
       "          MPM    ⋯ AD             AD             AD             AD            \n",
       "1006_at   10     ⋯ 21.8           73.7           42.7           32.5          \n",
       "1014_at   69.8   ⋯ 36.3           10             51.7           34.9          \n",
       "1042_at   3114.3 ⋯ 52.8           122.3          35             294.6         \n",
       "1047_s_at 260.4  ⋯ 171.8          10             88.1           43            \n",
       "          CL2001032842AA CL2001032259AA CL2001031611AA CL2001032155AA\n",
       "          AD             AD             AD             AD            \n",
       "1006_at   53.7           24.3           37.2           17.5          \n",
       "1014_at   21.9           46.3           10             54.2          \n",
       "1042_at   14.3           25.1           155.4          68.7          \n",
       "1047_s_at 10             141            87.5           28            \n",
       "          CL2001032039AA CL2001031612AA\n",
       "          AD             AD            \n",
       "1006_at   47.8           47.1          \n",
       "1014_at   10             61.2          \n",
       "1042_at   10             45.7          \n",
       "1047_s_at 29.8           42.8          "
      ]
     },
     "metadata": {},
     "output_type": "display_data"
    }
   ],
   "source": [
    "gordon[0:5,]"
   ]
  },
  {
   "cell_type": "code",
   "execution_count": 4,
   "metadata": {
    "scrolled": true
   },
   "outputs": [
    {
     "data": {
      "text/html": [
       "<table>\n",
       "<thead><tr><th></th><th scope=col>Brain_MD_12</th><th scope=col>Brain_MD_61</th><th scope=col>Brain_MD_15</th><th scope=col>Brain_MD_57</th><th scope=col>Brain_MD_33</th><th scope=col>Brain_MD_64</th><th scope=col>Brain_MD_17</th><th scope=col>Brain_MD_62</th><th scope=col>Brain_MD_63</th><th scope=col>Brain_MD_32</th><th scope=col>⋯</th><th scope=col>Brain_Ncer_3</th><th scope=col>Brain_Ncer_4</th><th scope=col>Brain_PNET_1</th><th scope=col>Brain_PNET_2</th><th scope=col>Brain_PNET_3</th><th scope=col>Brain_PNET_4</th><th scope=col>Brain_PNET_5</th><th scope=col>Brain_PNET_6</th><th scope=col>Brain_PNET_7</th><th scope=col>Brain_PNET_8</th></tr></thead>\n",
       "<tbody>\n",
       "\t<tr><th scope=row></th><td>MD  </td><td>MD  </td><td>MD  </td><td>MD  </td><td>MD  </td><td>MD  </td><td>MD  </td><td>MD  </td><td>MD  </td><td>MD  </td><td>⋯   </td><td>Ncer</td><td>Ncer</td><td>PNET</td><td>PNET</td><td>PNET</td><td>PNET</td><td>PNET</td><td>PNET</td><td>PNET</td><td>PNET</td></tr>\n",
       "\t<tr><th scope=row>AFFX-BioB-3_at</th><td>10  </td><td>10  </td><td>163 </td><td>60  </td><td>10  </td><td>10  </td><td>97  </td><td>10  </td><td>87  </td><td>10  </td><td>⋯   </td><td>10  </td><td>226 </td><td>291 </td><td>10  </td><td>827 </td><td>51  </td><td>14  </td><td>14  </td><td>157 </td><td>10  </td></tr>\n",
       "\t<tr><th scope=row>AFFX-CreX-3_at</th><td>10  </td><td>238 </td><td>10  </td><td>10  </td><td>10  </td><td>10  </td><td>76  </td><td>131 </td><td>10  </td><td>10  </td><td>⋯   </td><td>10  </td><td>105 </td><td>300 </td><td>349 </td><td>471 </td><td>10  </td><td>10  </td><td>10  </td><td>256 </td><td>271 </td></tr>\n",
       "\t<tr><th scope=row>AFFX-BioB-5_st</th><td>377 </td><td>141 </td><td>66  </td><td>55  </td><td>10  </td><td>195 </td><td>10  </td><td>379 </td><td>10  </td><td>10  </td><td>⋯   </td><td>288 </td><td>121 </td><td>10  </td><td>128 </td><td>10  </td><td>35  </td><td>336 </td><td>10  </td><td>10  </td><td>241 </td></tr>\n",
       "\t<tr><th scope=row>AFFX-BioB-M_st</th><td>10  </td><td>10  </td><td>10  </td><td>10  </td><td>10  </td><td>10  </td><td>10  </td><td>10  </td><td>129 </td><td>10  </td><td>⋯   </td><td>10  </td><td>10  </td><td>273 </td><td>10  </td><td>163 </td><td>92  </td><td>10  </td><td>94  </td><td>589 </td><td>131 </td></tr>\n",
       "</tbody>\n",
       "</table>\n"
      ],
      "text/latex": [
       "\\begin{tabular}{r|llllllllllllllllllllllllllllllllllllllllll}\n",
       "  & Brain\\_MD\\_12 & Brain\\_MD\\_61 & Brain\\_MD\\_15 & Brain\\_MD\\_57 & Brain\\_MD\\_33 & Brain\\_MD\\_64 & Brain\\_MD\\_17 & Brain\\_MD\\_62 & Brain\\_MD\\_63 & Brain\\_MD\\_32 & ⋯ & Brain\\_Ncer\\_3 & Brain\\_Ncer\\_4 & Brain\\_PNET\\_1 & Brain\\_PNET\\_2 & Brain\\_PNET\\_3 & Brain\\_PNET\\_4 & Brain\\_PNET\\_5 & Brain\\_PNET\\_6 & Brain\\_PNET\\_7 & Brain\\_PNET\\_8\\\\\n",
       "\\hline\n",
       "\t & MD   & MD   & MD   & MD   & MD   & MD   & MD   & MD   & MD   & MD   & ⋯    & Ncer & Ncer & PNET & PNET & PNET & PNET & PNET & PNET & PNET & PNET\\\\\n",
       "\tAFFX-BioB-3\\_at & 10   & 10   & 163  & 60   & 10   & 10   & 97   & 10   & 87   & 10   & ⋯    & 10   & 226  & 291  & 10   & 827  & 51   & 14   & 14   & 157  & 10  \\\\\n",
       "\tAFFX-CreX-3\\_at & 10   & 238  & 10   & 10   & 10   & 10   & 76   & 131  & 10   & 10   & ⋯    & 10   & 105  & 300  & 349  & 471  & 10   & 10   & 10   & 256  & 271 \\\\\n",
       "\tAFFX-BioB-5\\_st & 377  & 141  & 66   & 55   & 10   & 195  & 10   & 379  & 10   & 10   & ⋯    & 288  & 121  & 10   & 128  & 10   & 35   & 336  & 10   & 10   & 241 \\\\\n",
       "\tAFFX-BioB-M\\_st & 10   & 10   & 10   & 10   & 10   & 10   & 10   & 10   & 129  & 10   & ⋯    & 10   & 10   & 273  & 10   & 163  & 92   & 10   & 94   & 589  & 131 \\\\\n",
       "\\end{tabular}\n"
      ],
      "text/markdown": [
       "\n",
       "| <!--/--> | Brain_MD_12 | Brain_MD_61 | Brain_MD_15 | Brain_MD_57 | Brain_MD_33 | Brain_MD_64 | Brain_MD_17 | Brain_MD_62 | Brain_MD_63 | Brain_MD_32 | ⋯ | Brain_Ncer_3 | Brain_Ncer_4 | Brain_PNET_1 | Brain_PNET_2 | Brain_PNET_3 | Brain_PNET_4 | Brain_PNET_5 | Brain_PNET_6 | Brain_PNET_7 | Brain_PNET_8 | \n",
       "|---|---|---|---|---|\n",
       "|  | MD   | MD   | MD   | MD   | MD   | MD   | MD   | MD   | MD   | MD   | ⋯    | Ncer | Ncer | PNET | PNET | PNET | PNET | PNET | PNET | PNET | PNET | \n",
       "| AFFX-BioB-3_at | 10   | 10   | 163  | 60   | 10   | 10   | 97   | 10   | 87   | 10   | ⋯    | 10   | 226  | 291  | 10   | 827  | 51   | 14   | 14   | 157  | 10   | \n",
       "| AFFX-CreX-3_at | 10   | 238  | 10   | 10   | 10   | 10   | 76   | 131  | 10   | 10   | ⋯    | 10   | 105  | 300  | 349  | 471  | 10   | 10   | 10   | 256  | 271  | \n",
       "| AFFX-BioB-5_st | 377  | 141  | 66   | 55   | 10   | 195  | 10   | 379  | 10   | 10   | ⋯    | 288  | 121  | 10   | 128  | 10   | 35   | 336  | 10   | 10   | 241  | \n",
       "| AFFX-BioB-M_st | 10   | 10   | 10   | 10   | 10   | 10   | 10   | 10   | 129  | 10   | ⋯    | 10   | 10   | 273  | 10   | 163  | 92   | 10   | 94   | 589  | 131  | \n",
       "\n",
       "\n"
      ],
      "text/plain": [
       "               Brain_MD_12 Brain_MD_61 Brain_MD_15 Brain_MD_57 Brain_MD_33\n",
       "               MD          MD          MD          MD          MD         \n",
       "AFFX-BioB-3_at 10          10          163         60          10         \n",
       "AFFX-CreX-3_at 10          238         10          10          10         \n",
       "AFFX-BioB-5_st 377         141         66          55          10         \n",
       "AFFX-BioB-M_st 10          10          10          10          10         \n",
       "               Brain_MD_64 Brain_MD_17 Brain_MD_62 Brain_MD_63 Brain_MD_32 ⋯\n",
       "               MD          MD          MD          MD          MD          ⋯\n",
       "AFFX-BioB-3_at 10          97          10          87          10          ⋯\n",
       "AFFX-CreX-3_at 10          76          131         10          10          ⋯\n",
       "AFFX-BioB-5_st 195         10          379         10          10          ⋯\n",
       "AFFX-BioB-M_st 10          10          10          129         10          ⋯\n",
       "               Brain_Ncer_3 Brain_Ncer_4 Brain_PNET_1 Brain_PNET_2 Brain_PNET_3\n",
       "               Ncer         Ncer         PNET         PNET         PNET        \n",
       "AFFX-BioB-3_at 10           226          291          10           827         \n",
       "AFFX-CreX-3_at 10           105          300          349          471         \n",
       "AFFX-BioB-5_st 288          121          10           128          10          \n",
       "AFFX-BioB-M_st 10           10           273          10           163         \n",
       "               Brain_PNET_4 Brain_PNET_5 Brain_PNET_6 Brain_PNET_7 Brain_PNET_8\n",
       "               PNET         PNET         PNET         PNET         PNET        \n",
       "AFFX-BioB-3_at 51           14           14           157          10          \n",
       "AFFX-CreX-3_at 10           10           10           256          271         \n",
       "AFFX-BioB-5_st 35           336          10           10           241         \n",
       "AFFX-BioB-M_st 92           10           94           589          131         "
      ]
     },
     "metadata": {},
     "output_type": "display_data"
    }
   ],
   "source": [
    "pomeroy[0:5,]"
   ]
  },
  {
   "cell_type": "code",
   "execution_count": 59,
   "metadata": {},
   "outputs": [],
   "source": [
    "gordon_data<-data.frame(t(gordon)[,0:-1])"
   ]
  },
  {
   "cell_type": "code",
   "execution_count": 60,
   "metadata": {},
   "outputs": [],
   "source": [
    "gordon_classes<-data.frame(t(gordon[-1])[,1])"
   ]
  },
  {
   "cell_type": "code",
   "execution_count": 61,
   "metadata": {},
   "outputs": [],
   "source": [
    "colnames(gordon_classes)<-\"classes\""
   ]
  },
  {
   "cell_type": "code",
   "execution_count": 62,
   "metadata": {},
   "outputs": [
    {
     "data": {
      "text/html": [
       "<table>\n",
       "<thead><tr><th></th><th scope=col>X1006_at</th><th scope=col>X1014_at</th><th scope=col>X1042_at</th><th scope=col>X1047_s_at</th><th scope=col>X1051_g_at</th><th scope=col>X1057_at</th><th scope=col>X1061_at</th><th scope=col>X1067_at</th><th scope=col>X1069_at</th><th scope=col>X1070_at</th><th scope=col>⋯</th><th scope=col>X897_at</th><th scope=col>X909_g_at</th><th scope=col>X910_at</th><th scope=col>X912_s_at</th><th scope=col>X926_at</th><th scope=col>X927_s_at</th><th scope=col>X943_at</th><th scope=col>X968_i_at</th><th scope=col>X988_at</th><th scope=col>X989_at</th></tr></thead>\n",
       "<tbody>\n",
       "\t<tr><th scope=row>meso42</th><td>10    </td><td>82    </td><td>1481.1</td><td>220.3 </td><td>34.6  </td><td>148.4 </td><td>59.2  </td><td>10    </td><td>19.6  </td><td>43.2  </td><td>⋯     </td><td>70.3  </td><td>66.6  </td><td>59.2  </td><td>22    </td><td>106.3 </td><td>228   </td><td>16.8  </td><td>115.2 </td><td>12.6  </td><td>77.4  </td></tr>\n",
       "\t<tr><th scope=row>meso51</th><td>71    </td><td>133.9 </td><td>82.6  </td><td>74.5  </td><td>30.1  </td><td>1271.7</td><td>10    </td><td>93.4  </td><td>10    </td><td>71.5  </td><td>⋯     </td><td>134.8 </td><td>41.9  </td><td>31.4  </td><td>10    </td><td>12.7  </td><td>65.3  </td><td>311   </td><td>56.1  </td><td>25.1  </td><td>47.4  </td></tr>\n",
       "\t<tr><th scope=row>meso2</th><td>11.3  </td><td>60.7  </td><td>796.8 </td><td>298.3 </td><td>42.6  </td><td>35.9  </td><td>53.4  </td><td>36.5  </td><td>61.2  </td><td>130.3 </td><td>⋯     </td><td>73.6  </td><td>18.1  </td><td>22.8  </td><td>10    </td><td>14.2  </td><td>26    </td><td>10    </td><td>76.3  </td><td>10    </td><td>36.3  </td></tr>\n",
       "\t<tr><th scope=row>meso82</th><td>24.6  </td><td>85.1  </td><td>13.5  </td><td>26.6  </td><td>50.3  </td><td>45.9  </td><td>78    </td><td>36.4  </td><td>10    </td><td>18.7  </td><td>⋯     </td><td>211.5 </td><td>44.3  </td><td>39.2  </td><td>10    </td><td>37.3  </td><td>679.9 </td><td>185.3 </td><td>81.4  </td><td>10    </td><td>31    </td></tr>\n",
       "\t<tr><th scope=row>meso212</th><td>22.8  </td><td>49.9  </td><td>561.8 </td><td>85.9  </td><td>48.5  </td><td>272.9 </td><td>20.7  </td><td>35    </td><td>10    </td><td>68.2  </td><td>⋯     </td><td>91.1  </td><td>10    </td><td>112.2 </td><td>13.9  </td><td>167.2 </td><td>111.1 </td><td>66.3  </td><td>125   </td><td>16.4  </td><td>59.6  </td></tr>\n",
       "</tbody>\n",
       "</table>\n"
      ],
      "text/latex": [
       "\\begin{tabular}{r|llllllllllllllllllllllllllllllllllllllllllllllllllllllllllllllllllllllllllllllllllllllllllllllllllllllllllllllllllllllllllllllllllllllllllllllllllllllllllllllllllllllllllllllllllllllllllllllllllllllllllllllllllllllllllllllllllllllllllllllllllllllllllllllllllllllllllllllllllllllllllllllllllllllllllllllllllllllllllllllllllllllllllllllllllllllllllllllllllllllllllllllllllllllllllllllllllllllllllllllllllllllllllllllllllllllllllllllllllllllllllllllllllllllllllllllllllllllllllllllllllllllllllllllllllllllllllllllllllllllllllllllllllllllllllllllllllllllllllllllllllllllllllllllllllllllllllllllllllllllllllllllllllllllllllllllllllllllllllllllllllllllllllllllllllllllllllllllllllllllllllllllllllllllllllllllllllllllllllllllllllllllllllllllllllllllllllllllllllllllllllllllllllllllllllllllllllllllllllllllllllllllllllllllllllllllllllllllllllllllllllllllllllllllllllllllllllllllllllllllllllllllllllllllllllllllllllllllllllllllllllllllllllllllllllllllllllllllllllllllllllllllllllllllllllllllllllllllllllllllllllllllllllllllllllllllllllllllllllllllllllllllllllllllllllllllllllllllllllllllllllllllllllllllllllllllllllllllllllllllllllllllllllllllllllllllllllllllllllllllllllllllllllllllllllllllllllllllllllllllllllllllllllllllllllllllllllllllllllllllllllllllllllllllllllllllllllllllllllllllllllllllllllllllllllllllllllllllllllllllllllllllllllllllllllllllllllllllllllllllllllllllllllllllllllllllllllllllllllllllllllllllllllllllllllllllllllllllllllllllllllllllllllllllllllllllllllllllllllllllllllllllllllllllllllllllllllllllllllllllllllllllllllllllllllllllllllllllllllllllllllllllllllllllllllllllllllllllllllllllllllllllllllllllllllllllllll}\n",
       "  & X1006\\_at & X1014\\_at & X1042\\_at & X1047\\_s\\_at & X1051\\_g\\_at & X1057\\_at & X1061\\_at & X1067\\_at & X1069\\_at & X1070\\_at & ⋯ & X897\\_at & X909\\_g\\_at & X910\\_at & X912\\_s\\_at & X926\\_at & X927\\_s\\_at & X943\\_at & X968\\_i\\_at & X988\\_at & X989\\_at\\\\\n",
       "\\hline\n",
       "\tmeso42 & 10     & 82     & 1481.1 & 220.3  & 34.6   & 148.4  & 59.2   & 10     & 19.6   & 43.2   & ⋯      & 70.3   & 66.6   & 59.2   & 22     & 106.3  & 228    & 16.8   & 115.2  & 12.6   & 77.4  \\\\\n",
       "\tmeso51 & 71     & 133.9  & 82.6   & 74.5   & 30.1   & 1271.7 & 10     & 93.4   & 10     & 71.5   & ⋯      & 134.8  & 41.9   & 31.4   & 10     & 12.7   & 65.3   & 311    & 56.1   & 25.1   & 47.4  \\\\\n",
       "\tmeso2 & 11.3   & 60.7   & 796.8  & 298.3  & 42.6   & 35.9   & 53.4   & 36.5   & 61.2   & 130.3  & ⋯      & 73.6   & 18.1   & 22.8   & 10     & 14.2   & 26     & 10     & 76.3   & 10     & 36.3  \\\\\n",
       "\tmeso82 & 24.6   & 85.1   & 13.5   & 26.6   & 50.3   & 45.9   & 78     & 36.4   & 10     & 18.7   & ⋯      & 211.5  & 44.3   & 39.2   & 10     & 37.3   & 679.9  & 185.3  & 81.4   & 10     & 31    \\\\\n",
       "\tmeso212 & 22.8   & 49.9   & 561.8  & 85.9   & 48.5   & 272.9  & 20.7   & 35     & 10     & 68.2   & ⋯      & 91.1   & 10     & 112.2  & 13.9   & 167.2  & 111.1  & 66.3   & 125    & 16.4   & 59.6  \\\\\n",
       "\\end{tabular}\n"
      ],
      "text/markdown": [
       "\n",
       "| <!--/--> | X1006_at | X1014_at | X1042_at | X1047_s_at | X1051_g_at | X1057_at | X1061_at | X1067_at | X1069_at | X1070_at | ⋯ | X897_at | X909_g_at | X910_at | X912_s_at | X926_at | X927_s_at | X943_at | X968_i_at | X988_at | X989_at | \n",
       "|---|---|---|---|---|\n",
       "| meso42 | 10     | 82     | 1481.1 | 220.3  | 34.6   | 148.4  | 59.2   | 10     | 19.6   | 43.2   | ⋯      | 70.3   | 66.6   | 59.2   | 22     | 106.3  | 228    | 16.8   | 115.2  | 12.6   | 77.4   | \n",
       "| meso51 | 71     | 133.9  | 82.6   | 74.5   | 30.1   | 1271.7 | 10     | 93.4   | 10     | 71.5   | ⋯      | 134.8  | 41.9   | 31.4   | 10     | 12.7   | 65.3   | 311    | 56.1   | 25.1   | 47.4   | \n",
       "| meso2 | 11.3   | 60.7   | 796.8  | 298.3  | 42.6   | 35.9   | 53.4   | 36.5   | 61.2   | 130.3  | ⋯      | 73.6   | 18.1   | 22.8   | 10     | 14.2   | 26     | 10     | 76.3   | 10     | 36.3   | \n",
       "| meso82 | 24.6   | 85.1   | 13.5   | 26.6   | 50.3   | 45.9   | 78     | 36.4   | 10     | 18.7   | ⋯      | 211.5  | 44.3   | 39.2   | 10     | 37.3   | 679.9  | 185.3  | 81.4   | 10     | 31     | \n",
       "| meso212 | 22.8   | 49.9   | 561.8  | 85.9   | 48.5   | 272.9  | 20.7   | 35     | 10     | 68.2   | ⋯      | 91.1   | 10     | 112.2  | 13.9   | 167.2  | 111.1  | 66.3   | 125    | 16.4   | 59.6   | \n",
       "\n",
       "\n"
      ],
      "text/plain": [
       "        X1006_at X1014_at X1042_at X1047_s_at X1051_g_at X1057_at X1061_at\n",
       "meso42  10       82       1481.1   220.3      34.6       148.4    59.2    \n",
       "meso51  71       133.9    82.6     74.5       30.1       1271.7   10      \n",
       "meso2   11.3     60.7     796.8    298.3      42.6       35.9     53.4    \n",
       "meso82  24.6     85.1     13.5     26.6       50.3       45.9     78      \n",
       "meso212 22.8     49.9     561.8    85.9       48.5       272.9    20.7    \n",
       "        X1067_at X1069_at X1070_at ⋯ X897_at X909_g_at X910_at X912_s_at\n",
       "meso42  10       19.6     43.2     ⋯ 70.3    66.6      59.2    22       \n",
       "meso51  93.4     10       71.5     ⋯ 134.8   41.9      31.4    10       \n",
       "meso2   36.5     61.2     130.3    ⋯ 73.6    18.1      22.8    10       \n",
       "meso82  36.4     10       18.7     ⋯ 211.5   44.3      39.2    10       \n",
       "meso212 35       10       68.2     ⋯ 91.1    10        112.2   13.9     \n",
       "        X926_at X927_s_at X943_at X968_i_at X988_at X989_at\n",
       "meso42  106.3   228       16.8    115.2     12.6    77.4   \n",
       "meso51  12.7    65.3      311     56.1      25.1    47.4   \n",
       "meso2   14.2    26        10      76.3      10      36.3   \n",
       "meso82  37.3    679.9     185.3   81.4      10      31     \n",
       "meso212 167.2   111.1     66.3    125       16.4    59.6   "
      ]
     },
     "metadata": {},
     "output_type": "display_data"
    }
   ],
   "source": [
    "gordon_data[0:5,]"
   ]
  },
  {
   "cell_type": "code",
   "execution_count": 74,
   "metadata": {},
   "outputs": [
    {
     "data": {
      "text/html": [
       "<ol class=list-inline>\n",
       "\t<li>MPM</li>\n",
       "\t<li>MPM</li>\n",
       "\t<li>MPM</li>\n",
       "\t<li>MPM</li>\n",
       "\t<li>MPM</li>\n",
       "\t<li>MPM</li>\n",
       "\t<li>MPM</li>\n",
       "\t<li>MPM</li>\n",
       "\t<li>MPM</li>\n",
       "\t<li>MPM</li>\n",
       "</ol>\n",
       "\n",
       "<details>\n",
       "\t<summary style=display:list-item;cursor:pointer>\n",
       "\t\t<strong>Levels</strong>:\n",
       "\t</summary>\n",
       "\t<ol class=list-inline>\n",
       "\t\t<li>'AD'</li>\n",
       "\t\t<li>'MPM'</li>\n",
       "\t</ol>\n",
       "</details>"
      ],
      "text/latex": [
       "\\begin{enumerate*}\n",
       "\\item MPM\n",
       "\\item MPM\n",
       "\\item MPM\n",
       "\\item MPM\n",
       "\\item MPM\n",
       "\\item MPM\n",
       "\\item MPM\n",
       "\\item MPM\n",
       "\\item MPM\n",
       "\\item MPM\n",
       "\\end{enumerate*}\n",
       "\n",
       "\\emph{Levels}: \\begin{enumerate*}\n",
       "\\item 'AD'\n",
       "\\item 'MPM'\n",
       "\\end{enumerate*}\n"
      ],
      "text/markdown": [
       "1. MPM\n",
       "2. MPM\n",
       "3. MPM\n",
       "4. MPM\n",
       "5. MPM\n",
       "6. MPM\n",
       "7. MPM\n",
       "8. MPM\n",
       "9. MPM\n",
       "10. MPM\n",
       "\n",
       "\n",
       "\n",
       "**Levels**: 1. 'AD'\n",
       "2. 'MPM'\n",
       "\n",
       "\n"
      ],
      "text/plain": [
       " [1] MPM MPM MPM MPM MPM MPM MPM MPM MPM MPM\n",
       "Levels: AD MPM"
      ]
     },
     "metadata": {},
     "output_type": "display_data"
    }
   ],
   "source": [
    "gordon_classes[0:10,1]"
   ]
  },
  {
   "cell_type": "code",
   "execution_count": 64,
   "metadata": {},
   "outputs": [],
   "source": [
    "pomeroy_data<-data.frame(t(pomeroy)[,0:-1])"
   ]
  },
  {
   "cell_type": "code",
   "execution_count": 65,
   "metadata": {},
   "outputs": [],
   "source": [
    "pomeroy_classes<-data.frame(t(pomeroy)[,1])"
   ]
  },
  {
   "cell_type": "code",
   "execution_count": 66,
   "metadata": {},
   "outputs": [],
   "source": [
    "colnames(pomeroy_classes)<-\"classes\""
   ]
  },
  {
   "cell_type": "code",
   "execution_count": 67,
   "metadata": {},
   "outputs": [
    {
     "data": {
      "text/html": [
       "<table>\n",
       "<thead><tr><th></th><th scope=col>AFFX.BioB.3_at</th><th scope=col>AFFX.CreX.3_at</th><th scope=col>AFFX.BioB.5_st</th><th scope=col>AFFX.BioB.M_st</th><th scope=col>AFFX.BioDn.5_st</th><th scope=col>AFFX.CreX.5_st</th><th scope=col>AFFX.DapX.5_at</th><th scope=col>AFFX.LysX.3_at</th><th scope=col>AFFX.TrpnX.5_at</th><th scope=col>AFFX.HUMISGF3A.M97935_MA_at</th><th scope=col>⋯</th><th scope=col>M57423_f_at</th><th scope=col>U03735_f_at</th><th scope=col>U22029_f_at</th><th scope=col>U65918_f_at</th><th scope=col>V00532_rna1_f_at</th><th scope=col>Z80780_f_at</th><th scope=col>AC002076_cds2_at</th><th scope=col>S78825_at</th><th scope=col>U73738_at</th><th scope=col>L49218_f_at</th></tr></thead>\n",
       "<tbody>\n",
       "\t<tr><th scope=row>Brain_MD_12</th><td>10 </td><td>10 </td><td>377</td><td>10 </td><td>10 </td><td>10 </td><td>10 </td><td>10 </td><td>10 </td><td>10 </td><td>⋯  </td><td>149</td><td>33 </td><td>42 </td><td>73 </td><td>26 </td><td>10 </td><td>37 </td><td>290</td><td>10 </td><td>27 </td></tr>\n",
       "\t<tr><th scope=row>Brain_MD_61</th><td>10 </td><td>238</td><td>141</td><td>10 </td><td>10 </td><td>10 </td><td>10 </td><td>10 </td><td>10 </td><td>10 </td><td>⋯  </td><td>14 </td><td>96 </td><td>73 </td><td>54 </td><td>10 </td><td>571</td><td>10 </td><td>10 </td><td>10 </td><td>56 </td></tr>\n",
       "\t<tr><th scope=row>Brain_MD_15</th><td>163</td><td>10 </td><td>66 </td><td>10 </td><td>10 </td><td>10 </td><td>10 </td><td>73 </td><td>10 </td><td>10 </td><td>⋯  </td><td>10 </td><td>10 </td><td>57 </td><td>51 </td><td>11 </td><td>305</td><td>10 </td><td>10 </td><td>154</td><td>10 </td></tr>\n",
       "\t<tr><th scope=row>Brain_MD_57</th><td>60 </td><td>10 </td><td>55 </td><td>10 </td><td>10 </td><td>10 </td><td>10 </td><td>10 </td><td>10 </td><td>10 </td><td>⋯  </td><td>33 </td><td>42 </td><td>201</td><td>46 </td><td>10 </td><td>133</td><td>10 </td><td>58 </td><td>10 </td><td>28 </td></tr>\n",
       "\t<tr><th scope=row>Brain_MD_33</th><td>10 </td><td>10 </td><td>10 </td><td>10 </td><td>10 </td><td>283</td><td>10 </td><td>10 </td><td>10 </td><td>10 </td><td>⋯  </td><td>10 </td><td>10 </td><td>10 </td><td>10 </td><td>10 </td><td>725</td><td>10 </td><td>10 </td><td>10 </td><td>10 </td></tr>\n",
       "</tbody>\n",
       "</table>\n"
      ],
      "text/latex": [
       "\\begin{tabular}{r|lllllllllllllllllllllllllllllllllllllllllllllllllllllllllllllllllllllllllllllllllllllllllllllllllllllllllllllllllllllllllllllllllllllllllllllllllllllllllllllllllllllllllllllllllllllllllllllllllllllllllllllllllllllllllllllllllllllllllllllllllllllllllllllllllllllllllllllllllllllllllllllllllllllllllllllllllllllllllllllllllllllllllllllllllllllllllllllllllllllllllllllllllllllllllllllllllllllllllllllllllllllllllllllllllllllllllllllllllllllllllllllllllllllllllllllllllllllllllllllllllllllllllllllllllllllllllllllllllllllllllllllllllllllllllllllllllllllllllllllllllllllllllllllllllllllllllllllllllllllllllllllllllllllllllllllllllllllllllllllllllllllllllllllllllllllllllllllllllllllllllllllllllllllllllllllllllllllllllllllllllllllllllllllllllllllllllllllllllllllllllllllllllllllllllllllllllllllllllllllllllllllllllllllllllllllllllllllllllllllllllllllllllllllllllllllllllllllllllllllllllllllllllllllllllllllllllllllllllllllllllllllllllllllllllllllllllllllllllllllllllllllllllllllllllllllllllllllllllllllllllllllllllllllllllllllllllllllllllllllllllllllllllllllllllllllllllllllllllllllllllllllllllllllllllllllllllllllllllllllllllllllllllllllllllllllllllllllllllllllllllllllllllllllllllllllllllllllllllllllllllllllllllllllllllllllllllllllllllllllllllllllllllllllllllllllllllllllllllllllllllllllllllllllllllllllllllllllllllllllllllllllllllllllllllllllllllllllllllllllllllllllllllllllllllll}\n",
       "  & AFFX.BioB.3\\_at & AFFX.CreX.3\\_at & AFFX.BioB.5\\_st & AFFX.BioB.M\\_st & AFFX.BioDn.5\\_st & AFFX.CreX.5\\_st & AFFX.DapX.5\\_at & AFFX.LysX.3\\_at & AFFX.TrpnX.5\\_at & AFFX.HUMISGF3A.M97935\\_MA\\_at & ⋯ & M57423\\_f\\_at & U03735\\_f\\_at & U22029\\_f\\_at & U65918\\_f\\_at & V00532\\_rna1\\_f\\_at & Z80780\\_f\\_at & AC002076\\_cds2\\_at & S78825\\_at & U73738\\_at & L49218\\_f\\_at\\\\\n",
       "\\hline\n",
       "\tBrain\\_MD\\_12 & 10  & 10  & 377 & 10  & 10  & 10  & 10  & 10  & 10  & 10  & ⋯   & 149 & 33  & 42  & 73  & 26  & 10  & 37  & 290 & 10  & 27 \\\\\n",
       "\tBrain\\_MD\\_61 & 10  & 238 & 141 & 10  & 10  & 10  & 10  & 10  & 10  & 10  & ⋯   & 14  & 96  & 73  & 54  & 10  & 571 & 10  & 10  & 10  & 56 \\\\\n",
       "\tBrain\\_MD\\_15 & 163 & 10  & 66  & 10  & 10  & 10  & 10  & 73  & 10  & 10  & ⋯   & 10  & 10  & 57  & 51  & 11  & 305 & 10  & 10  & 154 & 10 \\\\\n",
       "\tBrain\\_MD\\_57 & 60  & 10  & 55  & 10  & 10  & 10  & 10  & 10  & 10  & 10  & ⋯   & 33  & 42  & 201 & 46  & 10  & 133 & 10  & 58  & 10  & 28 \\\\\n",
       "\tBrain\\_MD\\_33 & 10  & 10  & 10  & 10  & 10  & 283 & 10  & 10  & 10  & 10  & ⋯   & 10  & 10  & 10  & 10  & 10  & 725 & 10  & 10  & 10  & 10 \\\\\n",
       "\\end{tabular}\n"
      ],
      "text/markdown": [
       "\n",
       "| <!--/--> | AFFX.BioB.3_at | AFFX.CreX.3_at | AFFX.BioB.5_st | AFFX.BioB.M_st | AFFX.BioDn.5_st | AFFX.CreX.5_st | AFFX.DapX.5_at | AFFX.LysX.3_at | AFFX.TrpnX.5_at | AFFX.HUMISGF3A.M97935_MA_at | ⋯ | M57423_f_at | U03735_f_at | U22029_f_at | U65918_f_at | V00532_rna1_f_at | Z80780_f_at | AC002076_cds2_at | S78825_at | U73738_at | L49218_f_at | \n",
       "|---|---|---|---|---|\n",
       "| Brain_MD_12 | 10  | 10  | 377 | 10  | 10  | 10  | 10  | 10  | 10  | 10  | ⋯   | 149 | 33  | 42  | 73  | 26  | 10  | 37  | 290 | 10  | 27  | \n",
       "| Brain_MD_61 | 10  | 238 | 141 | 10  | 10  | 10  | 10  | 10  | 10  | 10  | ⋯   | 14  | 96  | 73  | 54  | 10  | 571 | 10  | 10  | 10  | 56  | \n",
       "| Brain_MD_15 | 163 | 10  | 66  | 10  | 10  | 10  | 10  | 73  | 10  | 10  | ⋯   | 10  | 10  | 57  | 51  | 11  | 305 | 10  | 10  | 154 | 10  | \n",
       "| Brain_MD_57 | 60  | 10  | 55  | 10  | 10  | 10  | 10  | 10  | 10  | 10  | ⋯   | 33  | 42  | 201 | 46  | 10  | 133 | 10  | 58  | 10  | 28  | \n",
       "| Brain_MD_33 | 10  | 10  | 10  | 10  | 10  | 283 | 10  | 10  | 10  | 10  | ⋯   | 10  | 10  | 10  | 10  | 10  | 725 | 10  | 10  | 10  | 10  | \n",
       "\n",
       "\n"
      ],
      "text/plain": [
       "            AFFX.BioB.3_at AFFX.CreX.3_at AFFX.BioB.5_st AFFX.BioB.M_st\n",
       "Brain_MD_12 10             10             377            10            \n",
       "Brain_MD_61 10             238            141            10            \n",
       "Brain_MD_15 163            10             66             10            \n",
       "Brain_MD_57 60             10             55             10            \n",
       "Brain_MD_33 10             10             10             10            \n",
       "            AFFX.BioDn.5_st AFFX.CreX.5_st AFFX.DapX.5_at AFFX.LysX.3_at\n",
       "Brain_MD_12 10              10             10             10            \n",
       "Brain_MD_61 10              10             10             10            \n",
       "Brain_MD_15 10              10             10             73            \n",
       "Brain_MD_57 10              10             10             10            \n",
       "Brain_MD_33 10              283            10             10            \n",
       "            AFFX.TrpnX.5_at AFFX.HUMISGF3A.M97935_MA_at ⋯ M57423_f_at\n",
       "Brain_MD_12 10              10                          ⋯ 149        \n",
       "Brain_MD_61 10              10                          ⋯ 14         \n",
       "Brain_MD_15 10              10                          ⋯ 10         \n",
       "Brain_MD_57 10              10                          ⋯ 33         \n",
       "Brain_MD_33 10              10                          ⋯ 10         \n",
       "            U03735_f_at U22029_f_at U65918_f_at V00532_rna1_f_at Z80780_f_at\n",
       "Brain_MD_12 33          42          73          26               10         \n",
       "Brain_MD_61 96          73          54          10               571        \n",
       "Brain_MD_15 10          57          51          11               305        \n",
       "Brain_MD_57 42          201         46          10               133        \n",
       "Brain_MD_33 10          10          10          10               725        \n",
       "            AC002076_cds2_at S78825_at U73738_at L49218_f_at\n",
       "Brain_MD_12 37               290       10        27         \n",
       "Brain_MD_61 10               10        10        56         \n",
       "Brain_MD_15 10               10        154       10         \n",
       "Brain_MD_57 10               58        10        28         \n",
       "Brain_MD_33 10               10        10        10         "
      ]
     },
     "metadata": {},
     "output_type": "display_data"
    }
   ],
   "source": [
    "pomeroy_data[0:5,]"
   ]
  },
  {
   "cell_type": "code",
   "execution_count": 73,
   "metadata": {},
   "outputs": [
    {
     "data": {
      "text/html": [
       "<ol class=list-inline>\n",
       "\t<li>MD</li>\n",
       "\t<li>MD</li>\n",
       "\t<li>MD</li>\n",
       "\t<li>MD</li>\n",
       "\t<li>MD</li>\n",
       "\t<li>MD</li>\n",
       "\t<li>MD</li>\n",
       "\t<li>MD</li>\n",
       "\t<li>MD</li>\n",
       "\t<li>MD</li>\n",
       "</ol>\n",
       "\n",
       "<details>\n",
       "\t<summary style=display:list-item;cursor:pointer>\n",
       "\t\t<strong>Levels</strong>:\n",
       "\t</summary>\n",
       "\t<ol class=list-inline>\n",
       "\t\t<li>'MD'</li>\n",
       "\t\t<li>'Mglio'</li>\n",
       "\t\t<li>'Ncer'</li>\n",
       "\t\t<li>'PNET'</li>\n",
       "\t\t<li>'Rhab'</li>\n",
       "\t</ol>\n",
       "</details>"
      ],
      "text/latex": [
       "\\begin{enumerate*}\n",
       "\\item MD\n",
       "\\item MD\n",
       "\\item MD\n",
       "\\item MD\n",
       "\\item MD\n",
       "\\item MD\n",
       "\\item MD\n",
       "\\item MD\n",
       "\\item MD\n",
       "\\item MD\n",
       "\\end{enumerate*}\n",
       "\n",
       "\\emph{Levels}: \\begin{enumerate*}\n",
       "\\item 'MD'\n",
       "\\item 'Mglio'\n",
       "\\item 'Ncer'\n",
       "\\item 'PNET'\n",
       "\\item 'Rhab'\n",
       "\\end{enumerate*}\n"
      ],
      "text/markdown": [
       "1. MD\n",
       "2. MD\n",
       "3. MD\n",
       "4. MD\n",
       "5. MD\n",
       "6. MD\n",
       "7. MD\n",
       "8. MD\n",
       "9. MD\n",
       "10. MD\n",
       "\n",
       "\n",
       "\n",
       "**Levels**: 1. 'MD'\n",
       "2. 'Mglio'\n",
       "3. 'Ncer'\n",
       "4. 'PNET'\n",
       "5. 'Rhab'\n",
       "\n",
       "\n"
      ],
      "text/plain": [
       " [1] MD MD MD MD MD MD MD MD MD MD\n",
       "Levels: MD Mglio Ncer PNET Rhab"
      ]
     },
     "metadata": {},
     "output_type": "display_data"
    }
   ],
   "source": [
    "pomeroy_classes[0:10,1]"
   ]
  },
  {
   "cell_type": "code",
   "execution_count": null,
   "metadata": {},
   "outputs": [],
   "source": []
  }
 ],
 "metadata": {
  "kernelspec": {
   "display_name": "R",
   "language": "R",
   "name": "ir"
  },
  "language_info": {
   "codemirror_mode": "r",
   "file_extension": ".r",
   "mimetype": "text/x-r-source",
   "name": "R",
   "pygments_lexer": "r",
   "version": "3.5.1"
  }
 },
 "nbformat": 4,
 "nbformat_minor": 2
}
