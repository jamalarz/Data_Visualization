{
 "cells": [
  {
   "cell_type": "markdown",
   "metadata": {},
   "source": [
    "# MLDS - Projet Exploration Visuelle des Données"
   ]
  },
  {
   "cell_type": "markdown",
   "metadata": {},
   "source": [
    "---\n",
    "<b>Authors :</b> \n",
    "<li>FHIYIL SOUFIANE</li>\n",
    "<li>MOUHDA MOHAMMED REDA</li>\n",
    "<li>JAMAL AOURRAZ</li>"
   ]
  },
  {
   "cell_type": "markdown",
   "metadata": {},
   "source": [
    "## Préparation des Données "
   ]
  },
  {
   "cell_type": "code",
   "execution_count": 3,
   "metadata": {},
   "outputs": [],
   "source": [
    "library(data.table)"
   ]
  },
  {
   "cell_type": "code",
   "execution_count": 18,
   "metadata": {},
   "outputs": [],
   "source": [
    "gordon<-read.csv2('https://raw.githubusercontent.com/jamalarz/Projet_Visualisation/master/gordon-2002_database.txt'\n",
    "                  ,sep=\"\\t\",header = T,row.names = 1)\n",
    "pomeroy<-read.csv2('https://raw.githubusercontent.com/jamalarz/Projet_Visualisation/master/pomeroy-2002-v2_database.txt'\n",
    "                  ,sep=\"\\t\",header = T,row.names = 1)"
   ]
  },
  {
   "cell_type": "code",
   "execution_count": 16,
   "metadata": {},
   "outputs": [
    {
     "data": {
      "text/html": [
       "<table>\n",
       "<thead><tr><th></th><th scope=col>meso42</th><th scope=col>meso51</th><th scope=col>meso2</th><th scope=col>meso82</th><th scope=col>meso212</th><th scope=col>meso74</th><th scope=col>meso67</th><th scope=col>meso57</th><th scope=col>meso167</th><th scope=col>meso33</th><th scope=col>⋯</th><th scope=col>CL2001032149AA</th><th scope=col>CL2001032301AA</th><th scope=col>CL2001032307AA</th><th scope=col>CL2001032040AA</th><th scope=col>CL2001032842AA</th><th scope=col>CL2001032259AA</th><th scope=col>CL2001031611AA</th><th scope=col>CL2001032155AA</th><th scope=col>CL2001032039AA</th><th scope=col>CL2001031612AA</th></tr></thead>\n",
       "<tbody>\n",
       "\t<tr><th scope=row></th><td>MPM   </td><td>MPM   </td><td>MPM   </td><td>MPM   </td><td>MPM   </td><td>MPM   </td><td>MPM   </td><td>MPM   </td><td>MPM   </td><td>MPM   </td><td>⋯     </td><td>AD    </td><td>AD    </td><td>AD    </td><td>AD    </td><td>AD    </td><td>AD    </td><td>AD    </td><td>AD    </td><td>AD    </td><td>AD    </td></tr>\n",
       "\t<tr><th scope=row>1006_at</th><td>10    </td><td>71    </td><td>11.3  </td><td>24.6  </td><td>22.8  </td><td>10    </td><td>19.3  </td><td>20.7  </td><td>17.7  </td><td>10    </td><td>⋯     </td><td>21.8  </td><td>73.7  </td><td>42.7  </td><td>32.5  </td><td>53.7  </td><td>24.3  </td><td>37.2  </td><td>17.5  </td><td>47.8  </td><td>47.1  </td></tr>\n",
       "\t<tr><th scope=row>1014_at</th><td>82    </td><td>133.9 </td><td>60.7  </td><td>85.1  </td><td>49.9  </td><td>108.2 </td><td>74.2  </td><td>38.4  </td><td>75.1  </td><td>69.8  </td><td>⋯     </td><td>36.3  </td><td>10    </td><td>51.7  </td><td>34.9  </td><td>21.9  </td><td>46.3  </td><td>10    </td><td>54.2  </td><td>10    </td><td>61.2  </td></tr>\n",
       "\t<tr><th scope=row>1042_at</th><td>1481.1</td><td>82.6  </td><td>796.8 </td><td>13.5  </td><td>561.8 </td><td>1209.3</td><td>1102.5</td><td>1895.5</td><td>1095.8</td><td>3114.3</td><td>⋯     </td><td>52.8  </td><td>122.3 </td><td>35    </td><td>294.6 </td><td>14.3  </td><td>25.1  </td><td>155.4 </td><td>68.7  </td><td>10    </td><td>45.7  </td></tr>\n",
       "\t<tr><th scope=row>1047_s_at</th><td>220.3 </td><td>74.5  </td><td>298.3 </td><td>26.6  </td><td>85.9  </td><td>40.3  </td><td>196.8 </td><td>228   </td><td>112.7 </td><td>260.4 </td><td>⋯     </td><td>171.8 </td><td>10    </td><td>88.1  </td><td>43    </td><td>10    </td><td>141   </td><td>87.5  </td><td>28    </td><td>29.8  </td><td>42.8  </td></tr>\n",
       "</tbody>\n",
       "</table>\n"
      ],
      "text/latex": [
       "\\begin{tabular}{r|lllllllllllllllllllllllllllllllllllllllllllllllllllllllllllllllllllllllllllllllllllllllllllllllllllllllllllllllllllllllllllllllllllllllllllllllllllllllllllllllllllllllllllllllllllll}\n",
       "  & meso42 & meso51 & meso2 & meso82 & meso212 & meso74 & meso67 & meso57 & meso167 & meso33 & ⋯ & CL2001032149AA & CL2001032301AA & CL2001032307AA & CL2001032040AA & CL2001032842AA & CL2001032259AA & CL2001031611AA & CL2001032155AA & CL2001032039AA & CL2001031612AA\\\\\n",
       "\\hline\n",
       "\t & MPM    & MPM    & MPM    & MPM    & MPM    & MPM    & MPM    & MPM    & MPM    & MPM    & ⋯      & AD     & AD     & AD     & AD     & AD     & AD     & AD     & AD     & AD     & AD    \\\\\n",
       "\t1006\\_at & 10     & 71     & 11.3   & 24.6   & 22.8   & 10     & 19.3   & 20.7   & 17.7   & 10     & ⋯      & 21.8   & 73.7   & 42.7   & 32.5   & 53.7   & 24.3   & 37.2   & 17.5   & 47.8   & 47.1  \\\\\n",
       "\t1014\\_at & 82     & 133.9  & 60.7   & 85.1   & 49.9   & 108.2  & 74.2   & 38.4   & 75.1   & 69.8   & ⋯      & 36.3   & 10     & 51.7   & 34.9   & 21.9   & 46.3   & 10     & 54.2   & 10     & 61.2  \\\\\n",
       "\t1042\\_at & 1481.1 & 82.6   & 796.8  & 13.5   & 561.8  & 1209.3 & 1102.5 & 1895.5 & 1095.8 & 3114.3 & ⋯      & 52.8   & 122.3  & 35     & 294.6  & 14.3   & 25.1   & 155.4  & 68.7   & 10     & 45.7  \\\\\n",
       "\t1047\\_s\\_at & 220.3  & 74.5   & 298.3  & 26.6   & 85.9   & 40.3   & 196.8  & 228    & 112.7  & 260.4  & ⋯      & 171.8  & 10     & 88.1   & 43     & 10     & 141    & 87.5   & 28     & 29.8   & 42.8  \\\\\n",
       "\\end{tabular}\n"
      ],
      "text/markdown": [
       "\n",
       "| <!--/--> | meso42 | meso51 | meso2 | meso82 | meso212 | meso74 | meso67 | meso57 | meso167 | meso33 | ⋯ | CL2001032149AA | CL2001032301AA | CL2001032307AA | CL2001032040AA | CL2001032842AA | CL2001032259AA | CL2001031611AA | CL2001032155AA | CL2001032039AA | CL2001031612AA | \n",
       "|---|---|---|---|---|\n",
       "|  | MPM    | MPM    | MPM    | MPM    | MPM    | MPM    | MPM    | MPM    | MPM    | MPM    | ⋯      | AD     | AD     | AD     | AD     | AD     | AD     | AD     | AD     | AD     | AD     | \n",
       "| 1006_at | 10     | 71     | 11.3   | 24.6   | 22.8   | 10     | 19.3   | 20.7   | 17.7   | 10     | ⋯      | 21.8   | 73.7   | 42.7   | 32.5   | 53.7   | 24.3   | 37.2   | 17.5   | 47.8   | 47.1   | \n",
       "| 1014_at | 82     | 133.9  | 60.7   | 85.1   | 49.9   | 108.2  | 74.2   | 38.4   | 75.1   | 69.8   | ⋯      | 36.3   | 10     | 51.7   | 34.9   | 21.9   | 46.3   | 10     | 54.2   | 10     | 61.2   | \n",
       "| 1042_at | 1481.1 | 82.6   | 796.8  | 13.5   | 561.8  | 1209.3 | 1102.5 | 1895.5 | 1095.8 | 3114.3 | ⋯      | 52.8   | 122.3  | 35     | 294.6  | 14.3   | 25.1   | 155.4  | 68.7   | 10     | 45.7   | \n",
       "| 1047_s_at | 220.3  | 74.5   | 298.3  | 26.6   | 85.9   | 40.3   | 196.8  | 228    | 112.7  | 260.4  | ⋯      | 171.8  | 10     | 88.1   | 43     | 10     | 141    | 87.5   | 28     | 29.8   | 42.8   | \n",
       "\n",
       "\n"
      ],
      "text/plain": [
       "          meso42 meso51 meso2 meso82 meso212 meso74 meso67 meso57 meso167\n",
       "          MPM    MPM    MPM   MPM    MPM     MPM    MPM    MPM    MPM    \n",
       "1006_at   10     71     11.3  24.6   22.8    10     19.3   20.7   17.7   \n",
       "1014_at   82     133.9  60.7  85.1   49.9    108.2  74.2   38.4   75.1   \n",
       "1042_at   1481.1 82.6   796.8 13.5   561.8   1209.3 1102.5 1895.5 1095.8 \n",
       "1047_s_at 220.3  74.5   298.3 26.6   85.9    40.3   196.8  228    112.7  \n",
       "          meso33 ⋯ CL2001032149AA CL2001032301AA CL2001032307AA CL2001032040AA\n",
       "          MPM    ⋯ AD             AD             AD             AD            \n",
       "1006_at   10     ⋯ 21.8           73.7           42.7           32.5          \n",
       "1014_at   69.8   ⋯ 36.3           10             51.7           34.9          \n",
       "1042_at   3114.3 ⋯ 52.8           122.3          35             294.6         \n",
       "1047_s_at 260.4  ⋯ 171.8          10             88.1           43            \n",
       "          CL2001032842AA CL2001032259AA CL2001031611AA CL2001032155AA\n",
       "          AD             AD             AD             AD            \n",
       "1006_at   53.7           24.3           37.2           17.5          \n",
       "1014_at   21.9           46.3           10             54.2          \n",
       "1042_at   14.3           25.1           155.4          68.7          \n",
       "1047_s_at 10             141            87.5           28            \n",
       "          CL2001032039AA CL2001031612AA\n",
       "          AD             AD            \n",
       "1006_at   47.8           47.1          \n",
       "1014_at   10             61.2          \n",
       "1042_at   10             45.7          \n",
       "1047_s_at 29.8           42.8          "
      ]
     },
     "metadata": {},
     "output_type": "display_data"
    }
   ],
   "source": [
    "gordon[0:5,]"
   ]
  },
  {
   "cell_type": "code",
   "execution_count": 19,
   "metadata": {},
   "outputs": [
    {
     "data": {
      "text/html": [
       "<table>\n",
       "<thead><tr><th></th><th scope=col>Brain_MD_12</th><th scope=col>Brain_MD_61</th><th scope=col>Brain_MD_15</th><th scope=col>Brain_MD_57</th><th scope=col>Brain_MD_33</th><th scope=col>Brain_MD_64</th><th scope=col>Brain_MD_17</th><th scope=col>Brain_MD_62</th><th scope=col>Brain_MD_63</th><th scope=col>Brain_MD_32</th><th scope=col>⋯</th><th scope=col>Brain_Ncer_3</th><th scope=col>Brain_Ncer_4</th><th scope=col>Brain_PNET_1</th><th scope=col>Brain_PNET_2</th><th scope=col>Brain_PNET_3</th><th scope=col>Brain_PNET_4</th><th scope=col>Brain_PNET_5</th><th scope=col>Brain_PNET_6</th><th scope=col>Brain_PNET_7</th><th scope=col>Brain_PNET_8</th></tr></thead>\n",
       "<tbody>\n",
       "\t<tr><th scope=row></th><td>MD  </td><td>MD  </td><td>MD  </td><td>MD  </td><td>MD  </td><td>MD  </td><td>MD  </td><td>MD  </td><td>MD  </td><td>MD  </td><td>⋯   </td><td>Ncer</td><td>Ncer</td><td>PNET</td><td>PNET</td><td>PNET</td><td>PNET</td><td>PNET</td><td>PNET</td><td>PNET</td><td>PNET</td></tr>\n",
       "\t<tr><th scope=row>AFFX-BioB-3_at</th><td>10  </td><td>10  </td><td>163 </td><td>60  </td><td>10  </td><td>10  </td><td>97  </td><td>10  </td><td>87  </td><td>10  </td><td>⋯   </td><td>10  </td><td>226 </td><td>291 </td><td>10  </td><td>827 </td><td>51  </td><td>14  </td><td>14  </td><td>157 </td><td>10  </td></tr>\n",
       "\t<tr><th scope=row>AFFX-CreX-3_at</th><td>10  </td><td>238 </td><td>10  </td><td>10  </td><td>10  </td><td>10  </td><td>76  </td><td>131 </td><td>10  </td><td>10  </td><td>⋯   </td><td>10  </td><td>105 </td><td>300 </td><td>349 </td><td>471 </td><td>10  </td><td>10  </td><td>10  </td><td>256 </td><td>271 </td></tr>\n",
       "\t<tr><th scope=row>AFFX-BioB-5_st</th><td>377 </td><td>141 </td><td>66  </td><td>55  </td><td>10  </td><td>195 </td><td>10  </td><td>379 </td><td>10  </td><td>10  </td><td>⋯   </td><td>288 </td><td>121 </td><td>10  </td><td>128 </td><td>10  </td><td>35  </td><td>336 </td><td>10  </td><td>10  </td><td>241 </td></tr>\n",
       "\t<tr><th scope=row>AFFX-BioB-M_st</th><td>10  </td><td>10  </td><td>10  </td><td>10  </td><td>10  </td><td>10  </td><td>10  </td><td>10  </td><td>129 </td><td>10  </td><td>⋯   </td><td>10  </td><td>10  </td><td>273 </td><td>10  </td><td>163 </td><td>92  </td><td>10  </td><td>94  </td><td>589 </td><td>131 </td></tr>\n",
       "</tbody>\n",
       "</table>\n"
      ],
      "text/latex": [
       "\\begin{tabular}{r|llllllllllllllllllllllllllllllllllllllllll}\n",
       "  & Brain\\_MD\\_12 & Brain\\_MD\\_61 & Brain\\_MD\\_15 & Brain\\_MD\\_57 & Brain\\_MD\\_33 & Brain\\_MD\\_64 & Brain\\_MD\\_17 & Brain\\_MD\\_62 & Brain\\_MD\\_63 & Brain\\_MD\\_32 & ⋯ & Brain\\_Ncer\\_3 & Brain\\_Ncer\\_4 & Brain\\_PNET\\_1 & Brain\\_PNET\\_2 & Brain\\_PNET\\_3 & Brain\\_PNET\\_4 & Brain\\_PNET\\_5 & Brain\\_PNET\\_6 & Brain\\_PNET\\_7 & Brain\\_PNET\\_8\\\\\n",
       "\\hline\n",
       "\t & MD   & MD   & MD   & MD   & MD   & MD   & MD   & MD   & MD   & MD   & ⋯    & Ncer & Ncer & PNET & PNET & PNET & PNET & PNET & PNET & PNET & PNET\\\\\n",
       "\tAFFX-BioB-3\\_at & 10   & 10   & 163  & 60   & 10   & 10   & 97   & 10   & 87   & 10   & ⋯    & 10   & 226  & 291  & 10   & 827  & 51   & 14   & 14   & 157  & 10  \\\\\n",
       "\tAFFX-CreX-3\\_at & 10   & 238  & 10   & 10   & 10   & 10   & 76   & 131  & 10   & 10   & ⋯    & 10   & 105  & 300  & 349  & 471  & 10   & 10   & 10   & 256  & 271 \\\\\n",
       "\tAFFX-BioB-5\\_st & 377  & 141  & 66   & 55   & 10   & 195  & 10   & 379  & 10   & 10   & ⋯    & 288  & 121  & 10   & 128  & 10   & 35   & 336  & 10   & 10   & 241 \\\\\n",
       "\tAFFX-BioB-M\\_st & 10   & 10   & 10   & 10   & 10   & 10   & 10   & 10   & 129  & 10   & ⋯    & 10   & 10   & 273  & 10   & 163  & 92   & 10   & 94   & 589  & 131 \\\\\n",
       "\\end{tabular}\n"
      ],
      "text/markdown": [
       "\n",
       "| <!--/--> | Brain_MD_12 | Brain_MD_61 | Brain_MD_15 | Brain_MD_57 | Brain_MD_33 | Brain_MD_64 | Brain_MD_17 | Brain_MD_62 | Brain_MD_63 | Brain_MD_32 | ⋯ | Brain_Ncer_3 | Brain_Ncer_4 | Brain_PNET_1 | Brain_PNET_2 | Brain_PNET_3 | Brain_PNET_4 | Brain_PNET_5 | Brain_PNET_6 | Brain_PNET_7 | Brain_PNET_8 | \n",
       "|---|---|---|---|---|\n",
       "|  | MD   | MD   | MD   | MD   | MD   | MD   | MD   | MD   | MD   | MD   | ⋯    | Ncer | Ncer | PNET | PNET | PNET | PNET | PNET | PNET | PNET | PNET | \n",
       "| AFFX-BioB-3_at | 10   | 10   | 163  | 60   | 10   | 10   | 97   | 10   | 87   | 10   | ⋯    | 10   | 226  | 291  | 10   | 827  | 51   | 14   | 14   | 157  | 10   | \n",
       "| AFFX-CreX-3_at | 10   | 238  | 10   | 10   | 10   | 10   | 76   | 131  | 10   | 10   | ⋯    | 10   | 105  | 300  | 349  | 471  | 10   | 10   | 10   | 256  | 271  | \n",
       "| AFFX-BioB-5_st | 377  | 141  | 66   | 55   | 10   | 195  | 10   | 379  | 10   | 10   | ⋯    | 288  | 121  | 10   | 128  | 10   | 35   | 336  | 10   | 10   | 241  | \n",
       "| AFFX-BioB-M_st | 10   | 10   | 10   | 10   | 10   | 10   | 10   | 10   | 129  | 10   | ⋯    | 10   | 10   | 273  | 10   | 163  | 92   | 10   | 94   | 589  | 131  | \n",
       "\n",
       "\n"
      ],
      "text/plain": [
       "               Brain_MD_12 Brain_MD_61 Brain_MD_15 Brain_MD_57 Brain_MD_33\n",
       "               MD          MD          MD          MD          MD         \n",
       "AFFX-BioB-3_at 10          10          163         60          10         \n",
       "AFFX-CreX-3_at 10          238         10          10          10         \n",
       "AFFX-BioB-5_st 377         141         66          55          10         \n",
       "AFFX-BioB-M_st 10          10          10          10          10         \n",
       "               Brain_MD_64 Brain_MD_17 Brain_MD_62 Brain_MD_63 Brain_MD_32 ⋯\n",
       "               MD          MD          MD          MD          MD          ⋯\n",
       "AFFX-BioB-3_at 10          97          10          87          10          ⋯\n",
       "AFFX-CreX-3_at 10          76          131         10          10          ⋯\n",
       "AFFX-BioB-5_st 195         10          379         10          10          ⋯\n",
       "AFFX-BioB-M_st 10          10          10          129         10          ⋯\n",
       "               Brain_Ncer_3 Brain_Ncer_4 Brain_PNET_1 Brain_PNET_2 Brain_PNET_3\n",
       "               Ncer         Ncer         PNET         PNET         PNET        \n",
       "AFFX-BioB-3_at 10           226          291          10           827         \n",
       "AFFX-CreX-3_at 10           105          300          349          471         \n",
       "AFFX-BioB-5_st 288          121          10           128          10          \n",
       "AFFX-BioB-M_st 10           10           273          10           163         \n",
       "               Brain_PNET_4 Brain_PNET_5 Brain_PNET_6 Brain_PNET_7 Brain_PNET_8\n",
       "               PNET         PNET         PNET         PNET         PNET        \n",
       "AFFX-BioB-3_at 51           14           14           157          10          \n",
       "AFFX-CreX-3_at 10           10           10           256          271         \n",
       "AFFX-BioB-5_st 35           336          10           10           241         \n",
       "AFFX-BioB-M_st 92           10           94           589          131         "
      ]
     },
     "metadata": {},
     "output_type": "display_data"
    }
   ],
   "source": [
    "pomeroy[0:5,]"
   ]
  },
  {
   "cell_type": "code",
   "execution_count": null,
   "metadata": {},
   "outputs": [],
   "source": []
  }
 ],
 "metadata": {
  "kernelspec": {
   "display_name": "R",
   "language": "R",
   "name": "ir"
  },
  "language_info": {
   "codemirror_mode": "r",
   "file_extension": ".r",
   "mimetype": "text/x-r-source",
   "name": "R",
   "pygments_lexer": "r",
   "version": "3.5.1"
  }
 },
 "nbformat": 4,
 "nbformat_minor": 2
}
